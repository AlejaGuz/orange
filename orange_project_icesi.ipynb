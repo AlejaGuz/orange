{
 "cells": [
  {
   "cell_type": "markdown",
   "metadata": {},
   "source": [
    "# CONFIGURACIONES"
   ]
  },
  {
   "cell_type": "code",
   "execution_count": 1,
   "metadata": {},
   "outputs": [],
   "source": [
    "import pandas as pd\n",
    "from sqlalchemy import create_engine, text\n",
    "from datetime import datetime\n",
    "from unidecode import unidecode\n",
    "from fuzzywuzzy import fuzz, process\n",
    "import numpy as np\n",
    "import re\n",
    "import sqlalchemy.exc as sa_exc\n",
    "from sqlalchemy.exc import SQLAlchemyError\n",
    "from sklearn.feature_extraction.text import TfidfVectorizer\n",
    "from sklearn.metrics.pairwise import cosine_similarity\n",
    "import unicodedata"
   ]
  },
  {
   "cell_type": "markdown",
   "metadata": {},
   "source": [
    "## VISUALIZACIÓN"
   ]
  },
  {
   "cell_type": "code",
   "execution_count": 2,
   "metadata": {},
   "outputs": [],
   "source": [
    "pd.set_option('display.max_colwidth', None)\n",
    "pd.set_option('display.max_columns', None)"
   ]
  },
  {
   "cell_type": "markdown",
   "metadata": {},
   "source": [
    "# EXTRACT"
   ]
  },
  {
   "cell_type": "code",
   "execution_count": 54,
   "metadata": {},
   "outputs": [],
   "source": [
    "df = pd.read_excel(r\"C:\\Users\\aleja\\OneDrive\\Documents\\Oracle - Program\\orange\\01 OVERALL FINAL DATA PHD.xlsx\",\n",
    "                   sheet_name='RAW DATA', )"
   ]
  },
  {
   "cell_type": "markdown",
   "metadata": {},
   "source": [
    "# TRANSFORM"
   ]
  },
  {
   "cell_type": "markdown",
   "metadata": {},
   "source": [
    "## SEPARAR LAS EMPRESAS DE LAS MEDICIONES"
   ]
  },
  {
   "cell_type": "code",
   "execution_count": 30,
   "metadata": {},
   "outputs": [],
   "source": [
    "companies = df.iloc[7:, :28] \n",
    "companies.columns = companies.iloc[0]\n",
    "companies = companies[2:]"
   ]
  },
  {
   "cell_type": "code",
   "execution_count": 67,
   "metadata": {},
   "outputs": [],
   "source": [
    "scores = df.iloc[:, 27:]\n",
    "scores = scores.iloc[1:]"
   ]
  },
  {
   "cell_type": "markdown",
   "metadata": {},
   "source": [
    "## ORGANIZAR EL DF"
   ]
  },
  {
   "cell_type": "code",
   "execution_count": 68,
   "metadata": {},
   "outputs": [],
   "source": [
    "# Paso 1: Identificar las columnas donde alguna fila contiene 'Addressed criteria'\n",
    "columnas_a_mover = scores.columns[scores.apply(lambda col: col.astype(str).str.contains('Addressed criteria', na=False)).any()]\n",
    "\n",
    "# Paso 2: Crear un nuevo DataFrame con estas columnas\n",
    "addressed_criteria = scores[columnas_a_mover].copy()\n",
    "\n",
    "# Paso 3: Eliminar estas columnas del DataFrame original\n",
    "scores.drop(columns=columnas_a_mover, inplace=True)"
   ]
  },
  {
   "cell_type": "code",
   "execution_count": 69,
   "metadata": {},
   "outputs": [],
   "source": [
    "# Paso 1: Identificar las columnas donde alguna fila contiene 'Use of tools'\n",
    "columnas_a_mover = scores.columns[scores.apply(lambda col: col.astype(str).str.contains('Use of tools', na=False)).any()]\n",
    "\n",
    "# Paso 2: Crear un nuevo DataFrame con estas columnas\n",
    "use_tools = scores[columnas_a_mover].copy()\n",
    "\n",
    "# Paso 3: Eliminar estas columnas del DataFrame original\n",
    "scores.drop(columns=columnas_a_mover, inplace=True)"
   ]
  },
  {
   "cell_type": "markdown",
   "metadata": {},
   "source": [
    "### TRANSPONER EL DF"
   ]
  },
  {
   "cell_type": "code",
   "execution_count": 70,
   "metadata": {},
   "outputs": [],
   "source": [
    "# Eliminar las filas 1, 4 y 7\n",
    "scores = scores.reset_index(drop=True).drop(index=[1, 4, 7]).reset_index(drop=True)"
   ]
  },
  {
   "cell_type": "code",
   "execution_count": 72,
   "metadata": {},
   "outputs": [],
   "source": [
    "# Paso 1: Transponer el DataFrame (convertir filas en columnas)\n",
    "dfT = scores.T.reset_index(drop=True)\n",
    "\n",
    "# Paso 2: Renombrar las columnas para que representen los niveles de jerarquía\n",
    "dfT.columns = [\"Dynamic_Capability_Stage\", \"Business_Parameters\", \"Business_Sub\", \"Metrics\",\"Question\"] + [f\"Valor_{i}\" for i in range(len(dfT.columns)-5)]\n",
    "\n",
    "# Paso 3: Convertir a formato largo (melt)\n",
    "df_long = dfT.melt(id_vars=[\"Dynamic_Capability_Stage\", \"Business_Parameters\", \"Business_Sub\", \"Metrics\",\"Question\"], \n",
    "                   var_name=\"Medicion\", value_name=\"Valor\")\n",
    "\n",
    "# Paso 4: Eliminar la columna de \"Medicion\" ya que no aporta información\n",
    "df_long = df_long.drop(columns=[\"Medicion\"])"
   ]
  },
  {
   "cell_type": "code",
   "execution_count": 74,
   "metadata": {},
   "outputs": [
    {
     "data": {
      "text/html": [
       "<div>\n",
       "<style scoped>\n",
       "    .dataframe tbody tr th:only-of-type {\n",
       "        vertical-align: middle;\n",
       "    }\n",
       "\n",
       "    .dataframe tbody tr th {\n",
       "        vertical-align: top;\n",
       "    }\n",
       "\n",
       "    .dataframe thead th {\n",
       "        text-align: right;\n",
       "    }\n",
       "</style>\n",
       "<table border=\"1\" class=\"dataframe\">\n",
       "  <thead>\n",
       "    <tr style=\"text-align: right;\">\n",
       "      <th></th>\n",
       "      <th>Dynamic_Capability_Stage</th>\n",
       "      <th>Business_Parameters</th>\n",
       "      <th>Business_Sub</th>\n",
       "      <th>Metrics</th>\n",
       "      <th>Question</th>\n",
       "      <th>Valor</th>\n",
       "    </tr>\n",
       "  </thead>\n",
       "  <tbody>\n",
       "    <tr>\n",
       "      <th>0</th>\n",
       "      <td>Sensing</td>\n",
       "      <td>Performance</td>\n",
       "      <td>Business development</td>\n",
       "      <td>Frequency (business)</td>\n",
       "      <td>Indicate how often your business identifies and defines performance challenges or opportunities, particularly in relation to customer acquisition.</td>\n",
       "      <td>4</td>\n",
       "    </tr>\n",
       "    <tr>\n",
       "      <th>1</th>\n",
       "      <td>Sensing</td>\n",
       "      <td>Performance</td>\n",
       "      <td>Business development</td>\n",
       "      <td>Effectiveness</td>\n",
       "      <td>Indicate how effective your business is to identify and define challenges or performance opportunities, particularly in relation to customer acquisition.</td>\n",
       "      <td>4</td>\n",
       "    </tr>\n",
       "    <tr>\n",
       "      <th>2</th>\n",
       "      <td>Sensing</td>\n",
       "      <td>Performance</td>\n",
       "      <td>Business development</td>\n",
       "      <td>Frequency (individual)</td>\n",
       "      <td>Indicate how often you participate in the identification and definition of challenges or opportunities for performance within your business development processes, particularly in relation to the acquisition of customers.</td>\n",
       "      <td>4</td>\n",
       "    </tr>\n",
       "    <tr>\n",
       "      <th>3</th>\n",
       "      <td>Sensing</td>\n",
       "      <td>Performance</td>\n",
       "      <td>Business development</td>\n",
       "      <td>Certainty</td>\n",
       "      <td>Indicate the typical level of certainty that you experience by identifying and defining challenges or opportunities for business development, particularly in relation to the acquisition of clients.</td>\n",
       "      <td>3</td>\n",
       "    </tr>\n",
       "    <tr>\n",
       "      <th>4</th>\n",
       "      <td>Sensing</td>\n",
       "      <td>Performance</td>\n",
       "      <td>Business development</td>\n",
       "      <td>Frequency (business)</td>\n",
       "      <td>Indicate how often your business establishes clear objectives and performance priorities for the acquisition of customers in business development.</td>\n",
       "      <td>5</td>\n",
       "    </tr>\n",
       "    <tr>\n",
       "      <th>...</th>\n",
       "      <td>...</td>\n",
       "      <td>...</td>\n",
       "      <td>...</td>\n",
       "      <td>...</td>\n",
       "      <td>...</td>\n",
       "      <td>...</td>\n",
       "    </tr>\n",
       "    <tr>\n",
       "      <th>8059</th>\n",
       "      <td>Transformation</td>\n",
       "      <td>People</td>\n",
       "      <td>Management</td>\n",
       "      <td>Certainty</td>\n",
       "      <td>Please indicate the typical level of certainty you experience when developing optimal management solutions, reconfigurations, and action plans for customer acquisition.</td>\n",
       "      <td>3</td>\n",
       "    </tr>\n",
       "    <tr>\n",
       "      <th>8060</th>\n",
       "      <td>Transformation</td>\n",
       "      <td>People</td>\n",
       "      <td>Management</td>\n",
       "      <td>Frequency (business)</td>\n",
       "      <td>Indicate how often your company evaluates and monitors management's performance and practices against customer acquisition objectives.</td>\n",
       "      <td>3</td>\n",
       "    </tr>\n",
       "    <tr>\n",
       "      <th>8061</th>\n",
       "      <td>Transformation</td>\n",
       "      <td>People</td>\n",
       "      <td>Management</td>\n",
       "      <td>Effectiveness</td>\n",
       "      <td>Indicate how effective your business is in evaluating and monitoring management performance and practices against customer acquisition objectives.</td>\n",
       "      <td>2</td>\n",
       "    </tr>\n",
       "    <tr>\n",
       "      <th>8062</th>\n",
       "      <td>Transformation</td>\n",
       "      <td>People</td>\n",
       "      <td>Management</td>\n",
       "      <td>Frequency (individual)</td>\n",
       "      <td>Indicate how frequently you participate in evaluating and monitoring management practices and performance against customer acquisition objectives.</td>\n",
       "      <td>3</td>\n",
       "    </tr>\n",
       "    <tr>\n",
       "      <th>8063</th>\n",
       "      <td>Transformation</td>\n",
       "      <td>People</td>\n",
       "      <td>Management</td>\n",
       "      <td>Certainty</td>\n",
       "      <td>Please indicate the typical level of certainty you experience in evaluating and monitoring performance and management practices against customer acquisition objectives.</td>\n",
       "      <td>3</td>\n",
       "    </tr>\n",
       "  </tbody>\n",
       "</table>\n",
       "<p>8064 rows × 6 columns</p>\n",
       "</div>"
      ],
      "text/plain": [
       "     Dynamic_Capability_Stage Business_Parameters          Business_Sub  \\\n",
       "0                     Sensing         Performance  Business development   \n",
       "1                     Sensing         Performance  Business development   \n",
       "2                     Sensing         Performance  Business development   \n",
       "3                     Sensing         Performance  Business development   \n",
       "4                     Sensing         Performance  Business development   \n",
       "...                       ...                 ...                   ...   \n",
       "8059           Transformation              People            Management   \n",
       "8060           Transformation              People            Management   \n",
       "8061           Transformation              People            Management   \n",
       "8062           Transformation              People            Management   \n",
       "8063           Transformation              People            Management   \n",
       "\n",
       "                     Metrics  \\\n",
       "0       Frequency (business)   \n",
       "1              Effectiveness   \n",
       "2     Frequency (individual)   \n",
       "3                  Certainty   \n",
       "4       Frequency (business)   \n",
       "...                      ...   \n",
       "8059               Certainty   \n",
       "8060    Frequency (business)   \n",
       "8061           Effectiveness   \n",
       "8062  Frequency (individual)   \n",
       "8063               Certainty   \n",
       "\n",
       "                                                                                                                                                                                                                          Question  \\\n",
       "0                                                                               Indicate how often your business identifies and defines performance challenges or opportunities, particularly in relation to customer acquisition.   \n",
       "1                                                                        Indicate how effective your business is to identify and define challenges or performance opportunities, particularly in relation to customer acquisition.   \n",
       "2     Indicate how often you participate in the identification and definition of challenges or opportunities for performance within your business development processes, particularly in relation to the acquisition of customers.   \n",
       "3                            Indicate the typical level of certainty that you experience by identifying and defining challenges or opportunities for business development, particularly in relation to the acquisition of clients.   \n",
       "4                                                                               Indicate how often your business establishes clear objectives and performance priorities for the acquisition of customers in business development.   \n",
       "...                                                                                                                                                                                                                            ...   \n",
       "8059                                                      Please indicate the typical level of certainty you experience when developing optimal management solutions, reconfigurations, and action plans for customer acquisition.   \n",
       "8060                                                                                        Indicate how often your company evaluates and monitors management's performance and practices against customer acquisition objectives.   \n",
       "8061                                                                            Indicate how effective your business is in evaluating and monitoring management performance and practices against customer acquisition objectives.   \n",
       "8062                                                                            Indicate how frequently you participate in evaluating and monitoring management practices and performance against customer acquisition objectives.   \n",
       "8063                                                      Please indicate the typical level of certainty you experience in evaluating and monitoring performance and management practices against customer acquisition objectives.   \n",
       "\n",
       "     Valor  \n",
       "0        4  \n",
       "1        4  \n",
       "2        4  \n",
       "3        3  \n",
       "4        5  \n",
       "...    ...  \n",
       "8059     3  \n",
       "8060     3  \n",
       "8061     2  \n",
       "8062     3  \n",
       "8063     3  \n",
       "\n",
       "[8064 rows x 6 columns]"
      ]
     },
     "execution_count": 74,
     "metadata": {},
     "output_type": "execute_result"
    }
   ],
   "source": [
    "df_long"
   ]
  }
 ],
 "metadata": {
  "kernelspec": {
   "display_name": "Python 3",
   "language": "python",
   "name": "python3"
  },
  "language_info": {
   "codemirror_mode": {
    "name": "ipython",
    "version": 3
   },
   "file_extension": ".py",
   "mimetype": "text/x-python",
   "name": "python",
   "nbconvert_exporter": "python",
   "pygments_lexer": "ipython3",
   "version": "3.10.11"
  }
 },
 "nbformat": 4,
 "nbformat_minor": 2
}
