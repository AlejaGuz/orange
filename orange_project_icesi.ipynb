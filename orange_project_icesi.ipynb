{
 "cells": [
  {
   "cell_type": "markdown",
   "metadata": {},
   "source": [
    "# CONFIGURACIONES"
   ]
  },
  {
   "cell_type": "code",
   "execution_count": 1,
   "metadata": {},
   "outputs": [],
   "source": [
    "import pandas as pd\n",
    "from sqlalchemy import create_engine, text\n",
    "from datetime import datetime\n",
    "from unidecode import unidecode\n",
    "from fuzzywuzzy import fuzz, process\n",
    "import numpy as np\n",
    "import re\n",
    "import sqlalchemy.exc as sa_exc\n",
    "from sqlalchemy.exc import SQLAlchemyError\n",
    "from sklearn.feature_extraction.text import TfidfVectorizer\n",
    "from sklearn.metrics.pairwise import cosine_similarity\n",
    "import unicodedata"
   ]
  },
  {
   "cell_type": "markdown",
   "metadata": {},
   "source": [
    "## VISUALIZACIÓN"
   ]
  },
  {
   "cell_type": "code",
   "execution_count": 2,
   "metadata": {},
   "outputs": [],
   "source": [
    "pd.set_option('display.max_colwidth', None)\n",
    "pd.set_option('display.max_columns', None)"
   ]
  },
  {
   "cell_type": "markdown",
   "metadata": {},
   "source": [
    "# EXTRACT"
   ]
  },
  {
   "cell_type": "code",
   "execution_count": 54,
   "metadata": {},
   "outputs": [],
   "source": [
    "df = pd.read_excel(r\"C:\\Users\\aleja\\OneDrive\\Documents\\Oracle - Program\\orange\\01 OVERALL FINAL DATA PHD.xlsx\",\n",
    "                   sheet_name='RAW DATA', )"
   ]
  },
  {
   "cell_type": "markdown",
   "metadata": {},
   "source": [
    "# TRANSFORM"
   ]
  },
  {
   "cell_type": "markdown",
   "metadata": {},
   "source": [
    "## SEPARAR LAS EMPRESAS DE LAS MEDICIONES"
   ]
  },
  {
   "cell_type": "code",
   "execution_count": null,
   "metadata": {},
   "outputs": [],
   "source": [
    "companies = df.iloc[7:, :28] \n",
    "companies.columns = companies.iloc[0]\n",
    "companies = companies[2:].reset_index(drop=True)\n",
    "companies"
   ]
  },
  {
   "cell_type": "code",
   "execution_count": 145,
   "metadata": {},
   "outputs": [],
   "source": [
    "scores = df.iloc[:, 27:]\n",
    "scores = scores.iloc[1:]"
   ]
  },
  {
   "cell_type": "markdown",
   "metadata": {},
   "source": [
    "## ORGANIZAR EL DF"
   ]
  },
  {
   "cell_type": "code",
   "execution_count": 146,
   "metadata": {},
   "outputs": [],
   "source": [
    "# Paso 1: Identificar las columnas donde alguna fila contiene 'Addressed criteria'\n",
    "columnas_a_mover = scores.columns[scores.apply(lambda col: col.astype(str).str.contains('Addressed criteria', na=False)).any()]\n",
    "\n",
    "# Paso 2: Crear un nuevo DataFrame con estas columnas\n",
    "addressed_criteria = scores[columnas_a_mover].copy()\n",
    "\n",
    "# Paso 3: Eliminar estas columnas del DataFrame original\n",
    "scores.drop(columns=columnas_a_mover, inplace=True)"
   ]
  },
  {
   "cell_type": "code",
   "execution_count": 147,
   "metadata": {},
   "outputs": [],
   "source": [
    "# Paso 1: Identificar las columnas donde alguna fila contiene 'Use of tools'\n",
    "columnas_a_mover = scores.columns[scores.apply(lambda col: col.astype(str).str.contains('Use of tools', na=False)).any()]\n",
    "\n",
    "# Paso 2: Crear un nuevo DataFrame con estas columnas\n",
    "use_tools = scores[columnas_a_mover].copy()\n",
    "\n",
    "# Paso 3: Eliminar estas columnas del DataFrame original\n",
    "scores.drop(columns=columnas_a_mover, inplace=True)"
   ]
  },
  {
   "cell_type": "markdown",
   "metadata": {},
   "source": [
    "### TRANSPONER EL DF"
   ]
  },
  {
   "cell_type": "code",
   "execution_count": 148,
   "metadata": {},
   "outputs": [],
   "source": [
    "# Eliminar las filas 1, 4 y 7\n",
    "scores = scores.reset_index(drop=True).drop(index=[1, 4, 7]).reset_index(drop=True)"
   ]
  },
  {
   "cell_type": "markdown",
   "metadata": {},
   "source": [
    "### CONCATENARLE EL CÓD DE LA EMPRESA"
   ]
  },
  {
   "cell_type": "code",
   "execution_count": 105,
   "metadata": {},
   "outputs": [],
   "source": [
    "concat_companies = companies[['CODE']]"
   ]
  },
  {
   "cell_type": "code",
   "execution_count": 106,
   "metadata": {},
   "outputs": [],
   "source": [
    "# Crear 5 filas nulas con las mismas columnas que el DataFrame original\n",
    "filas_nulas = pd.DataFrame([[None] * concat_companies.shape[1]] * 5, columns=concat_companies.columns)\n",
    "\n",
    "# Concatenar las filas nulas con el DataFrame original\n",
    "concat_companies = pd.concat([filas_nulas, concat_companies], ignore_index=True)"
   ]
  },
  {
   "cell_type": "code",
   "execution_count": 149,
   "metadata": {},
   "outputs": [],
   "source": [
    "scores = pd.concat([concat_companies,scores],axis=1)"
   ]
  },
  {
   "cell_type": "code",
   "execution_count": null,
   "metadata": {},
   "outputs": [],
   "source": [
    "# scores.drop(columns=['CODE'],inplace=True)"
   ]
  },
  {
   "cell_type": "code",
   "execution_count": 142,
   "metadata": {},
   "outputs": [],
   "source": [
    "# Paso 1: Transponer el DataFrame (convertir filas en columnas)\n",
    "dfT = scores.T.reset_index(drop=True)\n",
    "\n",
    "# Paso 2: Renombrar las columnas para que representen los niveles de jerarquía\n",
    "dfT.columns = [\"Dynamic_Capability_Stage\", \"Business_Parameters\", \"Business_Sub\", \"Metrics\",\"Question\"] + [f\"Valor_{i}\" for i in range(len(dfT.columns)-5)]\n",
    "\n",
    "# Paso 3: Convertir a formato largo (melt)\n",
    "df_long = dfT.melt(id_vars=[\"Dynamic_Capability_Stage\", \"Business_Parameters\", \"Business_Sub\", \"Metrics\",\"Question\"], \n",
    "                   var_name=\"Medicion\", value_name=\"Valor\")\n",
    "\n",
    "# Paso 4: Eliminar la columna de \"Medicion\" ya que no aporta información\n",
    "df_long = df_long.drop(columns=[\"Medicion\"])"
   ]
  },
  {
   "cell_type": "code",
   "execution_count": 151,
   "metadata": {},
   "outputs": [],
   "source": [
    "# Paso 2: Asegurar que la primera fila sea los nombres de columna\n",
    "dfT.columns = dfT.iloc[0]  # Asignar la primera fila como nombres de columnas\n",
    "dfT = dfT.iloc[1:].reset_index(drop=True)  # Eliminar la fila de encabezado y resetear índice"
   ]
  },
  {
   "cell_type": "code",
   "execution_count": 153,
   "metadata": {},
   "outputs": [],
   "source": [
    "dfT.to_excel(\"transpuesta.xlsx\", index=False)"
   ]
  }
 ],
 "metadata": {
  "kernelspec": {
   "display_name": "Python 3",
   "language": "python",
   "name": "python3"
  },
  "language_info": {
   "codemirror_mode": {
    "name": "ipython",
    "version": 3
   },
   "file_extension": ".py",
   "mimetype": "text/x-python",
   "name": "python",
   "nbconvert_exporter": "python",
   "pygments_lexer": "ipython3",
   "version": "3.10.11"
  }
 },
 "nbformat": 4,
 "nbformat_minor": 2
}
