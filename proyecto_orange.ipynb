{
 "cells": [
  {
   "cell_type": "markdown",
   "metadata": {},
   "source": [
    "# **Proyecto Orange** \n",
    "### **Responsables: Andrés Felipe Ocampo, Alejandra Ruiz y Luis Felipe Montenegro**"
   ]
  },
  {
   "cell_type": "markdown",
   "metadata": {},
   "source": [
    "# **Sección 1 - Análisis Exploratorio de Datos**"
   ]
  },
  {
   "cell_type": "markdown",
   "metadata": {},
   "source": [
    "Caracterización de los registros existentes en la base de datos, con el objetivo de aterrizar el dominio del problema. Para esto es necesario:\n",
    "\n",
    "- Diseño y estructuración de la base de datos\n",
    "- Generación de gráficos, análisis descriptivo y estadística inferencial (deseable)\n",
    "- Análisis de correlación univariada\n",
    "  "
   ]
  },
  {
   "cell_type": "markdown",
   "metadata": {},
   "source": [
    "# **Sección 2 - Análisis de Componentes Principales & Clustering**"
   ]
  }
 ],
 "metadata": {
  "language_info": {
   "name": "python"
  }
 },
 "nbformat": 4,
 "nbformat_minor": 2
}
