{
 "cells": [
  {
   "cell_type": "markdown",
   "metadata": {},
   "source": [
    "# **Proyecto Orange** \n",
    "### **Responsables: Andrés Felipe Ocampo, Alejandra Ruiz y Luis Felipe Montenegro**"
   ]
  },
  {
   "cell_type": "markdown",
   "metadata": {},
   "source": [
    "# **Sección 1 - Análisis Exploratorio de Datos**"
   ]
  },
  {
   "cell_type": "markdown",
   "metadata": {},
   "source": [
    "Caracterización de los registros existentes en la base de datos, con el objetivo de aterrizar el dominio del problema. Para esto es necesario:\n",
    "\n",
    "- Diseño y estructuración de la base de datos\n",
    "- Generación de gráficos, análisis descriptivo y estadística inferencial (deseable)\n",
    "- Análisis de correlación univariada\n",
    "  "
   ]
  },
  {
   "cell_type": "code",
   "execution_count": 3,
   "metadata": {},
   "outputs": [],
   "source": [
    "#Librerías\n",
    "\n",
    "import pandas as pd"
   ]
  },
  {
   "cell_type": "code",
   "execution_count": 7,
   "metadata": {},
   "outputs": [],
   "source": [
    "#Lectura de datos\n",
    "\n",
    "\n",
    "df = pd.read_excel('prueba.xlsx', header=8)\n",
    "pd.set_option('display.max_columns', None)\n"
   ]
  },
  {
   "cell_type": "code",
   "execution_count": null,
   "metadata": {},
   "outputs": [
    {
     "name": "stdout",
     "output_type": "stream",
     "text": [
      "  Company  Unnamed: 1 LT \\nLeader of Team)\\n \\nor\\n \\nTM \\n(Team Member)  \\\n",
      "0     C01           1                                                 LT   \n",
      "1     C01           1                                                 TM   \n",
      "2     C02           2                                                 LT   \n",
      "3     C02           2                                                 TM   \n",
      "4     C03           3                                                 LT   \n",
      "\n",
      "     CODE Industry            1 industry/sector: 2 company size  \\\n",
      "0  C01-LT   Manufa             Manufactura, Moda            Big   \n",
      "1  C01-TM   Manufa             Manufactura, Moda            Big   \n",
      "2  C02-LT   Servic  Servicios, Comidas y bebidas            Big   \n",
      "3  C02-TM   Servic  Servicios, Comidas y bebidas            Big   \n",
      "4  C03-LT   Manufa             Manufactura, Moda            Big   \n",
      "\n",
      "   3 Age of the company: Unnamed: 8 4 Geographic reach location:  \\\n",
      "0                     29  25+ years                     Regional   \n",
      "1                     29  25+ years                     Regional   \n",
      "2                      6  5-8 years                     National   \n",
      "3                      6  5-8 years                     National   \n",
      "4                      8  5-8 years                        Local   \n",
      "\n",
      "   5 R&D Expenditure (Research and Development): 6 new products sales:  \\\n",
      "0                                   2.000000e-02           17850000000   \n",
      "1                                   2.000000e-02           17850000000   \n",
      "2                                   1.037000e+09            2835000000   \n",
      "3                                   1.037000e+09            2835000000   \n",
      "4                                   0.000000e+00           13200000000   \n",
      "\n",
      "   7 Number of patents/innovations:  8 Annual growth:  9 Last Year Sales  \\\n",
      "0                                12              0.18        85000000000   \n",
      "1                                12              0.18        85000000000   \n",
      "2                                 8              0.24        94500000000   \n",
      "3                                 8              0.24        94500000000   \n",
      "4                                 4              0.10       110000000000   \n",
      "\n",
      "   1 status quo  2 Risk take  3 Creative Confidence  4 Questioning  \\\n",
      "0      3.463927     2.251553               3.074534       3.314381   \n",
      "1      3.095238     2.380952               2.857143       3.142857   \n",
      "2      3.940118     2.013458               3.610248       3.742953   \n",
      "3      3.571429     2.142857               3.392857       3.571429   \n",
      "4      4.285714     4.285714               5.000000       3.285714   \n",
      "\n",
      "   5 Observing  6 Networking  7 Experimenting  8 associating  9 Analysis  \\\n",
      "0     4.033684      3.960822         3.918060       2.276159    3.691352   \n",
      "1     4.000000      3.571429         3.714286       2.000000    3.571429   \n",
      "2     4.605112      4.817965         4.060917       4.419016    4.262781   \n",
      "3     4.571429      4.428571         3.857143       4.142857    4.142857   \n",
      "4     4.571429      4.428571         4.714286       3.857143    3.142857   \n",
      "\n",
      "   10 planning  11 Detail oriented  12 Discipline  \\\n",
      "0     4.444577            3.896082       4.147157   \n",
      "1     4.142857            3.714286       3.857143   \n",
      "2     3.873149            3.324654       3.861443   \n",
      "3     3.571429            3.142857       3.571429   \n",
      "4     4.714286            4.285714       5.000000   \n",
      "\n",
      "                                    Pregunta_Columna  Respuesta  \\\n",
      "0  Indicate how often your business identifies an...          4   \n",
      "1  Indicate how often your business identifies an...          4   \n",
      "2  Indicate how often your business identifies an...          4   \n",
      "3  Indicate how often your business identifies an...          4   \n",
      "4  Indicate how often your business identifies an...          4   \n",
      "\n",
      "  Dynamic_Capability_Stage                     Dynamic_Decide_Model_Questions  \\\n",
      "0                  Sensing  DDM1 and DDM2 (understanding problems/opportun...   \n",
      "1                  Sensing  DDM1 and DDM2 (understanding problems/opportun...   \n",
      "2                  Sensing  DDM1 and DDM2 (understanding problems/opportun...   \n",
      "3                  Sensing  DDM1 and DDM2 (understanding problems/opportun...   \n",
      "4                  Sensing  DDM1 and DDM2 (understanding problems/opportun...   \n",
      "\n",
      "  Business_Parameters Business_Sub_Parameters  \\\n",
      "0         Performance    Business development   \n",
      "1         Performance    Business development   \n",
      "2         Performance    Business development   \n",
      "3         Performance    Business development   \n",
      "4         Performance    Business development   \n",
      "\n",
      "                                              Nivel5      Variable_Metrics  \n",
      "0  DDM1 Identify and understand problems/opportun...  Frequency (business)  \n",
      "1  DDM1 Identify and understand problems/opportun...  Frequency (business)  \n",
      "2  DDM1 Identify and understand problems/opportun...  Frequency (business)  \n",
      "3  DDM1 Identify and understand problems/opportun...  Frequency (business)  \n",
      "4  DDM1 Identify and understand problems/opportun...  Frequency (business)  \n"
     ]
    }
   ],
   "source": [
    "# Leer encabezados de dimensiones (desde fila 3 a 8)\n",
    "\n",
    "#Se leen los encabezados de las dimensiones de la encuesta, las cuales se encuentran entre la fila 3 y la 8\n",
    "\n",
    "df_headers = pd.read_excel('prueba.xlsx', header=None, nrows=8)\n",
    "dimension_metadata = df_headers.iloc[2:8, :].transpose()\n",
    "dimension_metadata.columns = ['Dynamic_Capability_Stage', 'Columna_Validar_1', 'Business_Parameters', 'Business_Sub_Parameters', 'Columna_Validar_2', 'Variable_Metrics']\n",
    "\n",
    "\n",
    "#Se identifica la columna en la que se encuentran las preguntas. \n",
    "\n",
    "dimension_metadata_filtered = dimension_metadata.iloc[27:].reset_index(drop=True)\n",
    "question_columns = df.columns[27:]\n",
    "\n",
    "# Construir tabla de metadatos\n",
    "\n",
    "metadata_df = pd.DataFrame({\n",
    "    'Pregunta_Columna': question_columns\n",
    "})\n",
    "metadata_df = pd.concat([metadata_df, dimension_metadata_filtered.reset_index(drop=True)], axis=1)\n",
    "\n",
    "# Melt Data \n",
    "\n",
    "id_vars = df.columns[:27]\n",
    "value_vars = df.columns[27:]\n",
    "\n",
    "df_melted = df.melt(id_vars=id_vars, value_vars=value_vars,\n",
    "                    var_name='Pregunta_Columna', value_name='Respuesta')\n",
    "\n",
    "# Unir con metadatos\n",
    "\n",
    "df_final = df_melted.merge(metadata_df, on='Pregunta_Columna', how='left')\n",
    "\n",
    "# Mostrar la información\n",
    "\n",
    "print(df_final.head())"
   ]
  },
  {
   "cell_type": "code",
   "execution_count": null,
   "metadata": {},
   "outputs": [],
   "source": [
    "df_transformado = df_final.copy()\n"
   ]
  },
  {
   "cell_type": "code",
   "execution_count": 11,
   "metadata": {},
   "outputs": [
    {
     "name": "stdout",
     "output_type": "stream",
     "text": [
      "<class 'pandas.core.frame.DataFrame'>\n",
      "RangeIndex: 13776 entries, 0 to 13775\n",
      "Data columns (total 35 columns):\n",
      " #   Column                                         Non-Null Count  Dtype  \n",
      "---  ------                                         --------------  -----  \n",
      " 0   Company                                        13776 non-null  object \n",
      " 1   Unnamed: 1                                     13776 non-null  int64  \n",
      " 2   LT \n",
      "Leader of Team)\n",
      " \n",
      "or\n",
      " \n",
      "TM \n",
      "(Team Member)   13776 non-null  object \n",
      " 3   CODE                                           13776 non-null  object \n",
      " 4   Industry                                       13776 non-null  object \n",
      " 5   1 industry/sector:                             13776 non-null  object \n",
      " 6   2 company size                                 13776 non-null  object \n",
      " 7   3 Age of the company:                          13776 non-null  int64  \n",
      " 8   Unnamed: 8                                     13776 non-null  object \n",
      " 9   4 Geographic reach location:                   13776 non-null  object \n",
      " 10  5 R&D Expenditure (Research and Development):  13776 non-null  float64\n",
      " 11  6 new products sales:                          13776 non-null  object \n",
      " 12  7 Number of patents/innovations:               13776 non-null  int64  \n",
      " 13  8 Annual growth:                               13776 non-null  float64\n",
      " 14  9 Last Year Sales                              13776 non-null  int64  \n",
      " 15  1 status quo                                   13776 non-null  float64\n",
      " 16  2 Risk take                                    13776 non-null  float64\n",
      " 17  3 Creative Confidence                          13776 non-null  float64\n",
      " 18  4 Questioning                                  13776 non-null  float64\n",
      " 19  5 Observing                                    13776 non-null  float64\n",
      " 20  6 Networking                                   13776 non-null  float64\n",
      " 21  7 Experimenting                                13776 non-null  float64\n",
      " 22  8 associating                                  13776 non-null  float64\n",
      " 23  9 Analysis                                     13776 non-null  float64\n",
      " 24  10 planning                                    13776 non-null  float64\n",
      " 25  11 Detail oriented                             13776 non-null  float64\n",
      " 26  12 Discipline                                  13776 non-null  float64\n",
      " 27  Pregunta_Columna                               13776 non-null  object \n",
      " 28  Respuesta                                      13776 non-null  int64  \n",
      " 29  Dynamic_Capability_Stage                       13776 non-null  object \n",
      " 30  Dynamic_Decide_Model_Questions                 13776 non-null  object \n",
      " 31  Business_Parameters                            13776 non-null  object \n",
      " 32  Business_Sub_Parameters                        13776 non-null  object \n",
      " 33  Nivel5                                         13776 non-null  object \n",
      " 34  Variable_Metrics                               13776 non-null  object \n",
      "dtypes: float64(14), int64(5), object(16)\n",
      "memory usage: 3.7+ MB\n"
     ]
    }
   ],
   "source": [
    "df_transformado.info()"
   ]
  },
  {
   "cell_type": "markdown",
   "metadata": {},
   "source": [
    "# **Sección 2 - Análisis de Componentes Principales & Clustering**"
   ]
  }
 ],
 "metadata": {
  "kernelspec": {
   "display_name": "base",
   "language": "python",
   "name": "python3"
  },
  "language_info": {
   "codemirror_mode": {
    "name": "ipython",
    "version": 3
   },
   "file_extension": ".py",
   "mimetype": "text/x-python",
   "name": "python",
   "nbconvert_exporter": "python",
   "pygments_lexer": "ipython3",
   "version": "3.11.7"
  }
 },
 "nbformat": 4,
 "nbformat_minor": 2
}
